{
  "cells": [
    {
      "cell_type": "markdown",
      "metadata": {},
      "source": [
        "\n# Detector Example\n\nIn this tutorial, you will learn the basic workflow of\nPyGOD with an example of DOMINANT. This tutorial assumes that\nyou have basic familiarity with PyTorch and PyTorch Geometric (PyG).\n\n(Time estimate: 5 minutes)\n"
      ]
    },
    {
      "cell_type": "markdown",
      "metadata": {},
      "source": [
        "## Data Loading\nPyGOD use ``torch_geometric.data.Data`` to handle the data. Here, we\nuse Cora, a PyG built-in dataset, as an example. To load your own\ndataset into PyGOD, you can refer to [creating your own datasets\ntutorial](https://pytorch-geometric.readthedocs.io/en/latest/notes\n/create_dataset.html)_ in PyG.\n\n"
      ]
    },
    {
      "cell_type": "code",
      "execution_count": null,
      "metadata": {
        "collapsed": false
      },
      "outputs": [],
      "source": [
        "import torch_geometric.transforms as T\nfrom torch_geometric.datasets import Planetoid\n\ndata = Planetoid('./data/Cora', 'Cora', transform=T.NormalizeFeatures())[0]"
      ]
    },
    {
      "cell_type": "markdown",
      "metadata": {},
      "source": [
        "Because there is no ground truth label of outliers in Cora, we follow\nthe method used by DOMINANT to inject 100 contextual outliers and 100\nstructure outliers into the graph. Note: If your dataset already\ncontains the outliers you want to detect, you don't have to inject\nmore outliers.\n\n"
      ]
    },
    {
      "cell_type": "code",
      "execution_count": null,
      "metadata": {
        "collapsed": false
      },
      "outputs": [],
      "source": [
        "import torch\nfrom pygod.generator import gen_contextual_outlier, gen_structural_outlier\n\ndata, ya = gen_contextual_outlier(data, n=100, k=50)\ndata, ys = gen_structural_outlier(data, m=10, n=10)\ndata.y = torch.logical_or(ys, ya).long()"
      ]
    },
    {
      "cell_type": "markdown",
      "metadata": {},
      "source": [
        "We also provide various type of built-in datasets. You can load them\nby passing the name of the dataset to ``load_data`` function.\nSee [data repository](https://github.com/pygod-team/data)_\nfor more details.\n\n"
      ]
    },
    {
      "cell_type": "code",
      "execution_count": null,
      "metadata": {
        "collapsed": false
      },
      "outputs": [],
      "source": [
        "from pygod.utils import load_data\n\ndata = load_data('inj_cora')\ndata.y = data.y.bool()"
      ]
    },
    {
      "cell_type": "markdown",
      "metadata": {},
      "source": [
        "## Initialization\nYou can use any detector by simply initializing without passing any\narguments. Default hyperparameters are ready for you. Of course, you\ncan also customize the parameters by passing arguments. Here, we use\n``pygod.detector.DOMINANT`` as an example.\n\n"
      ]
    },
    {
      "cell_type": "code",
      "execution_count": null,
      "metadata": {
        "collapsed": false
      },
      "outputs": [],
      "source": [
        "from pygod.detector import DOMINANT\n\ndetector = DOMINANT(hid_dim=64, num_layers=4, epoch=100)"
      ]
    },
    {
      "cell_type": "markdown",
      "metadata": {},
      "source": [
        "## Training\nTo train the detector with the loaded data, simply feed the\n``torch_geometric.data.Data`` object into the detector via ``fit``.\n\n"
      ]
    },
    {
      "cell_type": "code",
      "execution_count": null,
      "metadata": {
        "collapsed": false
      },
      "outputs": [],
      "source": [
        "detector.fit(data)"
      ]
    },
    {
      "cell_type": "markdown",
      "metadata": {},
      "source": [
        "## Inference\nAfter training, the detector is ready to use. You can use the detector\nto predict the labels, raw outlier scores, probability of the\noutlierness, and prediction confidence. Here, we use the loaded data\nas an example.\n\n"
      ]
    },
    {
      "cell_type": "code",
      "execution_count": null,
      "metadata": {
        "collapsed": false
      },
      "outputs": [],
      "source": [
        "pred, score, prob, conf = detector.predict(data,\n                                           return_pred=True,\n                                           return_score=True,\n                                           return_prob=True,\n                                           return_conf=True)\nprint('Labels:')\nprint(pred)\n\nprint('Raw scores:')\nprint(score)\n\nprint('Probability:')\nprint(prob)\n\nprint('Confidence:')\nprint(conf)"
      ]
    },
    {
      "cell_type": "markdown",
      "metadata": {},
      "source": [
        "## Evaluation\nTo evaluate the performance outlier detector with AUC score, you can:\n\n"
      ]
    },
    {
      "cell_type": "code",
      "execution_count": null,
      "metadata": {
        "collapsed": false
      },
      "outputs": [],
      "source": [
        "from pygod.metric import eval_roc_auc\n\nauc_score = eval_roc_auc(data.y, score)\nprint('AUC Score:', auc_score)"
      ]
    }
  ],
  "metadata": {
    "kernelspec": {
      "display_name": "Python 3",
      "language": "python",
      "name": "python3"
    },
    "language_info": {
      "codemirror_mode": {
        "name": "ipython",
        "version": 3
      },
      "file_extension": ".py",
      "mimetype": "text/x-python",
      "name": "python",
      "nbconvert_exporter": "python",
      "pygments_lexer": "ipython3",
      "version": "3.8.19"
    }
  },
  "nbformat": 4,
  "nbformat_minor": 0
}