{
  "cells": [
    {
      "cell_type": "markdown",
      "metadata": {},
      "source": [
        "\nThis example shows how to plot a simple line chart using matplotlib with SocialED data.\n\n# Section 1: Data Preparation\n\nWe start by creating a simple dataset.\n"
      ]
    },
    {
      "cell_type": "code",
      "execution_count": null,
      "metadata": {
        "collapsed": false
      },
      "outputs": [],
      "source": [
        "import matplotlib.pyplot as plt\n\n# \u6570\u636e\u51c6\u5907\nx = [1, 2, 3, 4]\ny = [10, 15, 13, 17]\n\n# \u7ed8\u5236\u6298\u7ebf\u56fe\nplt.plot(x, y)\nplt.title(\"Simple Line Chart\")\nplt.xlabel(\"X-axis\")\nplt.ylabel(\"Y-axis\")\nplt.show()  # \u8fd9\u4e2a\u547d\u4ee4\u4f1a\u751f\u6210\u5e76\u663e\u793a\u56fe\u8868"
      ]
    }
  ],
  "metadata": {
    "kernelspec": {
      "display_name": "Python 3",
      "language": "python",
      "name": "python3"
    },
    "language_info": {
      "codemirror_mode": {
        "name": "ipython",
        "version": 3
      },
      "file_extension": ".py",
      "mimetype": "text/x-python",
      "name": "python",
      "nbconvert_exporter": "python",
      "pygments_lexer": "ipython3",
      "version": "3.8.19"
    }
  },
  "nbformat": 4,
  "nbformat_minor": 0
}