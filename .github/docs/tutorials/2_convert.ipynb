{
  "cells": [
    {
      "cell_type": "markdown",
      "metadata": {},
      "source": [
        "\n# Score Conversion\n\nCurrently, the majority of outlier detectors are on node level. However,\nin some real-world applications, we may interest in the outlier edges or\noutlier graphs. In this tutorial, we introduce score converters provided\nin ``pygod.utils`` module, including ``to_edge_score`` and\n``to_graph_score``.\n\n(Time estimate: 3 minutes)\n"
      ]
    },
    {
      "cell_type": "markdown",
      "metadata": {},
      "source": [
        "## Data Loading\nWe first load the data from PyGOD with ``load_data`` function.\n\n"
      ]
    },
    {
      "cell_type": "code",
      "execution_count": null,
      "metadata": {
        "collapsed": false
      },
      "outputs": [],
      "source": [
        "from pygod.utils import load_data\n\ndata = load_data('weibo')\nprint(data)"
      ]
    },
    {
      "cell_type": "markdown",
      "metadata": {},
      "source": [
        "## Detector Training\nInitialize and train a detector in PyGOD. Here, we use\n``pygod.detector.DOMINANT`` as an example. For faster demonstration,\nwe set ``epoch`` to 3.\n\n"
      ]
    },
    {
      "cell_type": "code",
      "execution_count": null,
      "metadata": {
        "collapsed": false
      },
      "outputs": [],
      "source": [
        "from pygod.detector import DOMINANT\n\ndetector = DOMINANT(epoch=3)\ndetector.fit(data)"
      ]
    },
    {
      "cell_type": "markdown",
      "metadata": {},
      "source": [
        "## Obtaining Node Score\nAfter training, we obtain raw outlier scores for each node with\n``predict``. The shape of ``node_score`` is ``(N, )``.\n\n"
      ]
    },
    {
      "cell_type": "code",
      "execution_count": null,
      "metadata": {
        "collapsed": false
      },
      "outputs": [],
      "source": [
        "node_score = detector.predict(data, return_pred=False, return_score=True)\nprint(node_score.shape)"
      ]
    },
    {
      "cell_type": "markdown",
      "metadata": {},
      "source": [
        "## Converting Score to Edge Level\nTo detect outlier edges, we convert the outlier scores on node level\nto edge level. The shape of ``edge_score`` is ``(E, )``.\n\n"
      ]
    },
    {
      "cell_type": "code",
      "execution_count": null,
      "metadata": {
        "collapsed": false
      },
      "outputs": [],
      "source": [
        "from pygod.utils import to_edge_score\n\nedge_score = to_edge_score(node_score, data.edge_index)\nprint(edge_score.shape)"
      ]
    },
    {
      "cell_type": "markdown",
      "metadata": {},
      "source": [
        "## Converting Score to Graph Level\nTo detect outlier graphs, we convert the outlier scores on node level\nto graph level for each graph. ``graph_score`` is a scalar for each\n``Data`` object. Here, we give an example for scoring a list of graph.\n\n"
      ]
    },
    {
      "cell_type": "code",
      "execution_count": null,
      "metadata": {
        "collapsed": false
      },
      "outputs": [],
      "source": [
        "from pygod.utils import to_graph_score\n\ndata_list = [data, data, data]\ngraph_scores = []\nfor data in data_list:\n    node_score = detector.predict(data, return_pred=False, return_score=True)\n    graph_score = to_graph_score(node_score)\n    graph_scores.append(graph_score.item())\n\nprint(graph_scores)"
      ]
    }
  ],
  "metadata": {
    "kernelspec": {
      "display_name": "Python 3",
      "language": "python",
      "name": "python3"
    },
    "language_info": {
      "codemirror_mode": {
        "name": "ipython",
        "version": 3
      },
      "file_extension": ".py",
      "mimetype": "text/x-python",
      "name": "python",
      "nbconvert_exporter": "python",
      "pygments_lexer": "ipython3",
      "version": "3.8.19"
    }
  },
  "nbformat": 4,
  "nbformat_minor": 0
}